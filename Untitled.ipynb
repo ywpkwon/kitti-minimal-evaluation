{
 "cells": [
  {
   "cell_type": "code",
   "execution_count": 35,
   "metadata": {},
   "outputs": [
    {
     "name": "stdout",
     "output_type": "stream",
     "text": [
      "The autoreload extension is already loaded. To reload it, use:\n",
      "  %reload_ext autoreload\n",
      "3769\n",
      "3770\n"
     ]
    }
   ],
   "source": [
    "%load_ext autoreload\n",
    "%autoreload 2\n",
    "\n",
    "import os\n",
    "import glob\n",
    "import numpy as np\n",
    "import imageio\n",
    "from easydict import EasyDict as edict\n",
    "import paul_visualization as paul_viz\n",
    "\n",
    "import matplotlib\n",
    "import matplotlib.pyplot as plt\n",
    "import matplotlib.gridspec as gridspec\n",
    "import matplotlib.patches as ppatches\n",
    "from matplotlib.collections import PatchCollection\n",
    "%matplotlib inline\n",
    "plt.rcParams['figure.figsize'] = (20, 15)\n",
    "plt.rcParams['image.interpolation'] = 'nearest'\n",
    "plt.rcParams['image.cmap'] = 'gray'\n",
    "\n",
    "\n",
    "TARGET_DIR = '/home/paul/Downloads/model.ckpt-92800/training'\n",
    "reports = sorted(glob.glob(TARGET_DIR + '/report/*.txt'))\n",
    "rp_image = os.path.join(TARGET_DIR, 'report', '{}.png')\n",
    "submission = os.path.join(TARGET_DIR, '{}.txt')\n",
    "gt_image = 'kitti/training/image_2/{}.png'\n",
    "\n",
    "with open('validset.txt', 'r') as f:\n",
    "    lines = f.readlines()\n",
    "    vset = [l.strip() for l in lines]\n",
    "\n",
    "print(len(vset))\n",
    "print(len(reports))\n",
    "\n",
    "def read_objects(label_path, only_car=True):\n",
    "    objects = []\n",
    "    with open(label_path, 'r') as fp:\n",
    "        for line in fp:\n",
    "            read = line.split()\n",
    "            if len(read) > 2:\n",
    "                obj = edict({})\n",
    "                obj.lbl_txt = read[0]\n",
    "                obj.truncated = float(read[1])\n",
    "                obj.occlusion = float(read[2])\n",
    "                obj.Rl = float(read[3])\n",
    "                obj.bbox = np.array([float(v) for v in read[4:8]])\n",
    "                obj.height = float(read[8])\n",
    "                obj.width = float(read[9])\n",
    "                obj.length = float(read[10])\n",
    "                obj.x = float(read[11])\n",
    "                obj.y = float(read[12])\n",
    "                obj.z = float(read[13])\n",
    "                obj.R = float(read[14])\n",
    "                obj.score = float(read[15]) if len(read) > 15 else 1.0\n",
    "                objects.append(obj)\n",
    "    if only_car:\n",
    "        objects = [obj for obj in objects if obj.lbl_txt in ['Car', 'car']]\n",
    "\n",
    "    return objects\n",
    "\n",
    "\n",
    "def parse(reportf):\n",
    "    with open(reportf, 'r') as f:\n",
    "        lines = f.readlines()\n",
    "        lines = [l.split() for l in lines]\n",
    "\n",
    "    oks, tps, fps = [], [], []\n",
    "    for content in lines:\n",
    "        if content[0] == 'ok':\n",
    "            oks.append((int(content[2]), int(content[4])))\n",
    "        elif content[0] == 'tp':\n",
    "            tps.append((int(content[2]), int(content[4])))\n",
    "        elif content[0] == 'fp':\n",
    "            fps.append(int(content[2]))\n",
    "    return oks, tps, fps\n"
   ]
  },
  {
   "cell_type": "code",
   "execution_count": 39,
   "metadata": {
    "scrolled": false
   },
   "outputs": [
    {
     "data": {
      "application/vnd.jupyter.widget-view+json": {
       "model_id": "1d49512249614396a4323dc832258f3f",
       "version_major": 2,
       "version_minor": 0
      },
      "text/html": [
       "<p>Failed to display Jupyter Widget of type <code>HBox</code>.</p>\n",
       "<p>\n",
       "  If you're reading this message in the Jupyter Notebook or JupyterLab Notebook, it may mean\n",
       "  that the widgets JavaScript is still loading. If this message persists, it\n",
       "  likely means that the widgets JavaScript library is either not installed or\n",
       "  not enabled. See the <a href=\"https://ipywidgets.readthedocs.io/en/stable/user_install.html\">Jupyter\n",
       "  Widgets Documentation</a> for setup instructions.\n",
       "</p>\n",
       "<p>\n",
       "  If you're reading this message in another frontend (for example, a static\n",
       "  rendering on GitHub or <a href=\"https://nbviewer.jupyter.org/\">NBViewer</a>),\n",
       "  it may mean that your frontend doesn't currently support widgets.\n",
       "</p>\n"
      ],
      "text/plain": [
       "HBox(children=(IntProgress(value=1, bar_style='info', max=1), HTML(value='')))"
      ]
     },
     "metadata": {},
     "output_type": "display_data"
    },
    {
     "name": "stdout",
     "output_type": "stream",
     "text": [
      "\n"
     ]
    }
   ],
   "source": [
    "plt.rcParams['figure.figsize'] = (20, 15)\n",
    "from PIL import Image\n",
    "from tqdm import tqdm_notebook as tqdm\n",
    "\n",
    "for name, report in tqdm(zip(vset, reports)):\n",
    "    gt = read_objects(os.path.join('kitti/training/label_2/', name + '.txt'), False)\n",
    "    detection = read_objects(os.path.join(TARGET_DIR, name + '.txt'), False)\n",
    "    image = imageio.imread(gt_image.format(name))\n",
    "    oks, tps, fps = parse(report)\n",
    "    \n",
    "    string = '# gt: %d, # det: %d (# tp %d, # ok %d, # fp %d)' % (len(gt), \n",
    "            len([det for det in detection if det.lbl_txt == 'Car']), len(tps), len(oks), len(fps))\n",
    "    \n",
    "    im = Image.fromarray(image)\n",
    "    im = paul_viz._draw_text(im, 10, 10, string, align='left')\n",
    "    \n",
    "    for fp in fps:\n",
    "        det = detection[fp]\n",
    "        det_box = det.bbox\n",
    "        score = det.score\n",
    "        lw = 1\n",
    "        if score > 0.5: lw = 2\n",
    "        \n",
    "        im = paul_viz._draw_box(im, det_box, '%.2f' % det.score, color='red', thickness=lw, bgalpha=100)\n",
    "        \n",
    "    for tp in tps:\n",
    "        det = detection[tp[1]]\n",
    "        det_box = det.bbox\n",
    "        im = paul_viz._draw_single_box(im, det_box[0], det_box[1], det_box[2], det_box[3], color='green', thickness=2)\n",
    "\n",
    "    for ok in oks:\n",
    "        det = detection[ok[1]]\n",
    "        det_box = det.bbox\n",
    "        im = paul_viz._draw_single_box(im, det_box[0], det_box[1], det_box[2], det_box[3], color='cyan', thickness=2)\n",
    "        \n",
    "    \n",
    "    imageio.imwrite(rp_image.format(name), np.asarray(im, dtype=np.uint8))\n"
   ]
  },
  {
   "cell_type": "code",
   "execution_count": 48,
   "metadata": {},
   "outputs": [],
   "source": []
  },
  {
   "cell_type": "code",
   "execution_count": null,
   "metadata": {},
   "outputs": [],
   "source": []
  }
 ],
 "metadata": {
  "kernelspec": {
   "display_name": "tf",
   "language": "python",
   "name": "tf"
  },
  "language_info": {
   "codemirror_mode": {
    "name": "ipython",
    "version": 3
   },
   "file_extension": ".py",
   "mimetype": "text/x-python",
   "name": "python",
   "nbconvert_exporter": "python",
   "pygments_lexer": "ipython3",
   "version": "3.5.2"
  }
 },
 "nbformat": 4,
 "nbformat_minor": 2
}
